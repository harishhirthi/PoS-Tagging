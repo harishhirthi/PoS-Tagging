{
  "nbformat": 4,
  "nbformat_minor": 0,
  "metadata": {
    "colab": {
      "name": "POS.ipynb",
      "provenance": [],
      "collapsed_sections": [
        "ettHKFsrb8M9",
        "5O04OuHSmuBM",
        "cz-ogxeGPLsZ"
      ]
    },
    "kernelspec": {
      "name": "python3",
      "display_name": "Python 3"
    },
    "language_info": {
      "name": "python"
    }
  },
  "cells": [
    {
      "cell_type": "markdown",
      "metadata": {
        "id": "ettHKFsrb8M9"
      },
      "source": [
        "# Part of Speech (POS) Tagging\n",
        "\n",
        "* **Part of Speech** is essential to provide the syntactic behavior of the \n",
        "words in a sentence. It indicates how the word functions in meaning as well as grammatically within the sentence. \n",
        "* In **Natural Language Processing**, PoS form as applications for Named Entity Recognition(NER), Sentiment Analysis, Information Retreival etc.\n",
        "* Probabilistic models like HMM, MEMM use PoS tags to generate sentence that has well defined Syntatic and Semantic relationship."
      ]
    },
    {
      "cell_type": "code",
      "metadata": {
        "colab": {
          "base_uri": "https://localhost:8080/"
        },
        "id": "In1FMZ_UPAVM",
        "outputId": "930cf58a-8349-48fe-9fd1-1da515a3d3a4"
      },
      "source": [
        "!pip install pyunpack\n",
        "!pip install patool"
      ],
      "execution_count": 1,
      "outputs": [
        {
          "output_type": "stream",
          "name": "stdout",
          "text": [
            "Collecting pyunpack\n",
            "  Downloading pyunpack-0.2.2-py2.py3-none-any.whl (3.8 kB)\n",
            "Collecting easyprocess\n",
            "  Downloading EasyProcess-0.3-py2.py3-none-any.whl (7.9 kB)\n",
            "Collecting entrypoint2\n",
            "  Downloading entrypoint2-0.2.4-py3-none-any.whl (6.2 kB)\n",
            "Installing collected packages: entrypoint2, easyprocess, pyunpack\n",
            "Successfully installed easyprocess-0.3 entrypoint2-0.2.4 pyunpack-0.2.2\n",
            "Collecting patool\n",
            "  Downloading patool-1.12-py2.py3-none-any.whl (77 kB)\n",
            "\u001b[K     |████████████████████████████████| 77 kB 2.9 MB/s \n",
            "\u001b[?25hInstalling collected packages: patool\n",
            "Successfully installed patool-1.12\n"
          ]
        }
      ]
    },
    {
      "cell_type": "code",
      "metadata": {
        "id": "N21zX8i1PAJJ"
      },
      "source": [
        "from pyunpack import Archive\n",
        "Archive('/content/drive/My Drive/LSTM/glove.6B.100d.rar').extractall('/content')"
      ],
      "execution_count": 2,
      "outputs": []
    },
    {
      "cell_type": "code",
      "metadata": {
        "colab": {
          "base_uri": "https://localhost:8080/"
        },
        "id": "HAORboJjgDIm",
        "outputId": "742a430f-ea66-4fc9-bab1-850485e4997e"
      },
      "source": [
        "!pip install sklearn_crfsuite"
      ],
      "execution_count": 3,
      "outputs": [
        {
          "output_type": "stream",
          "name": "stdout",
          "text": [
            "Collecting sklearn_crfsuite\n",
            "  Downloading sklearn_crfsuite-0.3.6-py2.py3-none-any.whl (12 kB)\n",
            "Requirement already satisfied: tabulate in /usr/local/lib/python3.7/dist-packages (from sklearn_crfsuite) (0.8.9)\n",
            "Requirement already satisfied: tqdm>=2.0 in /usr/local/lib/python3.7/dist-packages (from sklearn_crfsuite) (4.62.0)\n",
            "Requirement already satisfied: six in /usr/local/lib/python3.7/dist-packages (from sklearn_crfsuite) (1.15.0)\n",
            "Collecting python-crfsuite>=0.8.3\n",
            "  Downloading python_crfsuite-0.9.7-cp37-cp37m-manylinux1_x86_64.whl (743 kB)\n",
            "\u001b[K     |████████████████████████████████| 743 kB 5.0 MB/s \n",
            "\u001b[?25hInstalling collected packages: python-crfsuite, sklearn-crfsuite\n",
            "Successfully installed python-crfsuite-0.9.7 sklearn-crfsuite-0.3.6\n"
          ]
        }
      ]
    },
    {
      "cell_type": "code",
      "metadata": {
        "id": "TCk6UbuMuGNw"
      },
      "source": [
        "import nltk\n",
        "from sklearn.model_selection import train_test_split\n",
        "from sklearn_crfsuite import CRF\n",
        "import re\n",
        "from sklearn_crfsuite import metrics\n",
        "from sklearn_crfsuite import scorers\n",
        "import seaborn as sns\n",
        "import matplotlib.pyplot as plt\n",
        "import pandas as pd\n",
        "import numpy as np\n",
        "from collections import Counter"
      ],
      "execution_count": 158,
      "outputs": []
    },
    {
      "cell_type": "markdown",
      "metadata": {
        "id": "5O04OuHSmuBM"
      },
      "source": [
        "# CRF(Conditional Random Field)\n",
        "\n",
        "* Linear chain CRF is the special case of **Markov Random Field**, where input random variables are conditioned(i.e. fixed).\n",
        "\n",
        "* It is the family of **undirected graph models**.\n",
        "\n",
        "* It is the **Discriminative model**, where model is nothing but the **Conditional Probability**. \n",
        "$$p(y\\mid x)$$"
      ]
    },
    {
      "cell_type": "code",
      "metadata": {
        "colab": {
          "base_uri": "https://localhost:8080/"
        },
        "id": "oQXrNNu7tVbN",
        "outputId": "bf146204-6c61-458d-ac49-ba738e501ebf"
      },
      "source": [
        "nltk.download('treebank')\n",
        "nltk.download('universal_tagset')\n",
        "nltk.download('brown')"
      ],
      "execution_count": 5,
      "outputs": [
        {
          "output_type": "stream",
          "name": "stdout",
          "text": [
            "[nltk_data] Downloading package treebank to /root/nltk_data...\n",
            "[nltk_data]   Unzipping corpora/treebank.zip.\n",
            "[nltk_data] Downloading package universal_tagset to /root/nltk_data...\n",
            "[nltk_data]   Unzipping taggers/universal_tagset.zip.\n",
            "[nltk_data] Downloading package brown to /root/nltk_data...\n",
            "[nltk_data]   Unzipping corpora/brown.zip.\n"
          ]
        },
        {
          "output_type": "execute_result",
          "data": {
            "text/plain": [
              "True"
            ]
          },
          "metadata": {},
          "execution_count": 5
        }
      ]
    },
    {
      "cell_type": "code",
      "metadata": {
        "id": "j8BKOlrKuE3Q"
      },
      "source": [
        "brown_corpus = nltk.corpus.brown.tagged_sents(tagset='universal')"
      ],
      "execution_count": 6,
      "outputs": []
    },
    {
      "cell_type": "code",
      "metadata": {
        "colab": {
          "base_uri": "https://localhost:8080/"
        },
        "id": "ipQ8NCv3DE8I",
        "outputId": "b4c80196-f5b5-421f-8a37-e166acba3349"
      },
      "source": [
        "brown_corpus[0]"
      ],
      "execution_count": 7,
      "outputs": [
        {
          "output_type": "execute_result",
          "data": {
            "text/plain": [
              "[('The', 'DET'),\n",
              " ('Fulton', 'NOUN'),\n",
              " ('County', 'NOUN'),\n",
              " ('Grand', 'ADJ'),\n",
              " ('Jury', 'NOUN'),\n",
              " ('said', 'VERB'),\n",
              " ('Friday', 'NOUN'),\n",
              " ('an', 'DET'),\n",
              " ('investigation', 'NOUN'),\n",
              " ('of', 'ADP'),\n",
              " (\"Atlanta's\", 'NOUN'),\n",
              " ('recent', 'ADJ'),\n",
              " ('primary', 'NOUN'),\n",
              " ('election', 'NOUN'),\n",
              " ('produced', 'VERB'),\n",
              " ('``', '.'),\n",
              " ('no', 'DET'),\n",
              " ('evidence', 'NOUN'),\n",
              " (\"''\", '.'),\n",
              " ('that', 'ADP'),\n",
              " ('any', 'DET'),\n",
              " ('irregularities', 'NOUN'),\n",
              " ('took', 'VERB'),\n",
              " ('place', 'NOUN'),\n",
              " ('.', '.')]"
            ]
          },
          "metadata": {},
          "execution_count": 7
        }
      ]
    },
    {
      "cell_type": "code",
      "metadata": {
        "colab": {
          "base_uri": "https://localhost:8080/"
        },
        "id": "_b19ZSToJ2LG",
        "outputId": "44bffe41-fb7c-4d48-dff0-80ca7d9283e7"
      },
      "source": [
        "tagged_words = [tup for sent in brown_corpus for tup in sent]\n",
        "print(\"Total Number of Tagged words\", len(tagged_words))\n",
        "vocab = set([word for word,tag in tagged_words])\n",
        "print(\"Vocabulary of the Corpus\",len(vocab))\n",
        "tags = set([tag for word,tag in tagged_words])\n",
        "print(\"Number of Tags in the Corpus \",len(tags))"
      ],
      "execution_count": 8,
      "outputs": [
        {
          "output_type": "stream",
          "name": "stdout",
          "text": [
            "Total Number of Tagged words 1161192\n",
            "Vocabulary of the Corpus 56057\n",
            "Number of Tags in the Corpus  12\n"
          ]
        }
      ]
    },
    {
      "cell_type": "code",
      "metadata": {
        "colab": {
          "base_uri": "https://localhost:8080/"
        },
        "id": "_1mHFGl-a0Dv",
        "outputId": "867ae8e5-f487-40c2-c26a-aa9bdcc81546"
      },
      "source": [
        "train_set, test_set = train_test_split(brown_corpus, test_size=0.2, random_state=30)\n",
        "print(\"Number of Sentences in Training Data \",len(train_set))\n",
        "print(\"Number of Sentences in Testing Data \",len(test_set))"
      ],
      "execution_count": 9,
      "outputs": [
        {
          "output_type": "stream",
          "name": "stdout",
          "text": [
            "Number of Sentences in Training Data  45872\n",
            "Number of Sentences in Testing Data  11468\n"
          ]
        }
      ]
    },
    {
      "cell_type": "code",
      "metadata": {
        "id": "JY7mkYK4uW8a"
      },
      "source": [
        "def features(sentence,index):\n",
        "    ### sentence is of the form [w1,w2,w3,..], index is the position of the word in the sentence.\n",
        "    return {\n",
        "        'is_first_capital':int(sentence[index][0].isupper()),\n",
        "        'is_first_word': int(index==0),\n",
        "        'is_last_word':int(index==len(sentence)-1),\n",
        "        'is_complete_capital': int(sentence[index].upper()==sentence[index]),\n",
        "        'prev_word':'' if index==0 else sentence[index-1],\n",
        "        'next_word':'' if index==len(sentence)-1 else sentence[index+1],\n",
        "        'is_numeric':int(sentence[index].isdigit()),\n",
        "        'prefix_1':sentence[index][0],\n",
        "        'prefix_2': sentence[index][:2],\n",
        "        'prefix_3':sentence[index][:3],\n",
        "        'prefix_4':sentence[index][:4],\n",
        "        'suffix_1':sentence[index][-1],\n",
        "        'suffix_2':sentence[index][-2:],\n",
        "        'suffix_3':sentence[index][-3:],\n",
        "        'suffix_4':sentence[index][-4:],\n",
        "        'word_has_hyphen': 1 if '-' in sentence[index] else 0  \n",
        "         }\n",
        "\n",
        "def prepareData(tagged_sentences):\n",
        "    X,y=[],[]\n",
        "    for sentences in tagged_sentences:\n",
        "        X.append([features([word for word,tag in sentences], index) for index in range(len(sentences))])\n",
        "        y.append([tag for word,tag in sentences])\n",
        "    return X,y\n",
        "X_train,y_train=prepareData(train_set)\n",
        "X_test,y_test=prepareData(test_set)"
      ],
      "execution_count": 10,
      "outputs": []
    },
    {
      "cell_type": "code",
      "metadata": {
        "colab": {
          "base_uri": "https://localhost:8080/"
        },
        "id": "eXe9ekj9a_PN",
        "outputId": "3bf93a33-2173-4fee-9e72-7a1fa75f4dec"
      },
      "source": [
        "crf = CRF(\n",
        "    algorithm='lbfgs',\n",
        "    c1=0.01,\n",
        "    c2=0.1,\n",
        "    max_iterations=150,\n",
        "    all_possible_transitions=True\n",
        ")\n",
        "crf.fit(X_train, y_train)"
      ],
      "execution_count": 11,
      "outputs": [
        {
          "output_type": "stream",
          "name": "stderr",
          "text": [
            "/usr/local/lib/python3.7/dist-packages/sklearn/base.py:197: FutureWarning: From version 0.24, get_params will raise an AttributeError if a parameter cannot be retrieved as an instance attribute. Previously it would return None.\n",
            "  FutureWarning)\n"
          ]
        },
        {
          "output_type": "execute_result",
          "data": {
            "text/plain": [
              "CRF(algorithm='lbfgs', all_possible_states=None, all_possible_transitions=True,\n",
              "    averaging=None, c=None, c1=0.01, c2=0.1, calibration_candidates=None,\n",
              "    calibration_eta=None, calibration_max_trials=None, calibration_rate=None,\n",
              "    calibration_samples=None, delta=None, epsilon=None, error_sensitive=None,\n",
              "    gamma=None, keep_tempfiles=None, linesearch=None, max_iterations=150,\n",
              "    max_linesearch=None, min_freq=None, model_filename=None, num_memories=None,\n",
              "    pa_type=None, period=None, trainer_cls=None, variance=None, verbose=False)"
            ]
          },
          "metadata": {},
          "execution_count": 11
        }
      ]
    },
    {
      "cell_type": "code",
      "metadata": {
        "colab": {
          "base_uri": "https://localhost:8080/"
        },
        "id": "t4xUrnOPbsQw",
        "outputId": "bdeffdb0-429b-470a-c55d-3c67235e4e76"
      },
      "source": [
        "y_pred=crf.predict(X_test)\n",
        "print(\"F1 score on Test Data \")\n",
        "print(metrics.flat_f1_score(y_test, y_pred, average='weighted', labels=crf.classes_))\n",
        "print(\"F1 score on Training Data \")\n",
        "y_pred_train=crf.predict(X_train)\n",
        "print(metrics.flat_f1_score(y_train, y_pred_train, average='weighted', labels=crf.classes_))\n",
        "\n",
        "### Classification report of Test Data.\n",
        "print(metrics.flat_classification_report(\n",
        "    y_test, y_pred, labels=crf.classes_, digits=3\n",
        "))"
      ],
      "execution_count": 12,
      "outputs": [
        {
          "output_type": "stream",
          "name": "stdout",
          "text": [
            "F1 score on Test Data \n",
            "0.9782296015211704\n",
            "F1 score on Training Data \n",
            "0.9919546311593458\n",
            "              precision    recall  f1-score   support\n",
            "\n",
            "         ADP      0.979     0.985     0.982     29227\n",
            "         DET      0.994     0.995     0.995     27551\n",
            "        NOUN      0.973     0.979     0.976     55666\n",
            "        PRON      0.993     0.988     0.991      9837\n",
            "        VERB      0.980     0.977     0.978     36748\n",
            "         ADJ      0.941     0.938     0.939     16922\n",
            "           .      1.000     1.000     1.000     29633\n",
            "         PRT      0.945     0.946     0.946      5980\n",
            "        CONJ      0.995     0.996     0.996      7725\n",
            "         ADV      0.951     0.940     0.945     11282\n",
            "         NUM      0.986     0.990     0.988      2904\n",
            "           X      0.826     0.357     0.499       305\n",
            "\n",
            "    accuracy                          0.978    233780\n",
            "   macro avg      0.964     0.924     0.936    233780\n",
            "weighted avg      0.978     0.978     0.978    233780\n",
            "\n"
          ]
        }
      ]
    },
    {
      "cell_type": "code",
      "metadata": {
        "colab": {
          "base_uri": "https://localhost:8080/"
        },
        "id": "huaCFUlnc6FP",
        "outputId": "26e7dab3-9321-4ad8-e633-5abd1029fc46"
      },
      "source": [
        "y_test[4]"
      ],
      "execution_count": 13,
      "outputs": [
        {
          "output_type": "execute_result",
          "data": {
            "text/plain": [
              "['.', 'VERB', 'NOUN', 'ADP', 'NOUN', 'NUM', '.']"
            ]
          },
          "metadata": {},
          "execution_count": 13
        }
      ]
    },
    {
      "cell_type": "code",
      "metadata": {
        "colab": {
          "base_uri": "https://localhost:8080/"
        },
        "id": "6sx6leJ9ceoU",
        "outputId": "6c090153-cfba-4e83-edee-88ceadf9733d"
      },
      "source": [
        "crf.predict([X_test[4]])"
      ],
      "execution_count": 14,
      "outputs": [
        {
          "output_type": "execute_result",
          "data": {
            "text/plain": [
              "[['.', 'VERB', 'NOUN', 'ADP', 'NOUN', 'NUM', '.']]"
            ]
          },
          "metadata": {},
          "execution_count": 14
        }
      ]
    },
    {
      "cell_type": "code",
      "metadata": {
        "colab": {
          "base_uri": "https://localhost:8080/"
        },
        "id": "DP_iDAcZj96x",
        "outputId": "03bc0c8b-cda9-48ad-c1e7-f0eec6348fe9"
      },
      "source": [
        "crf.classes_"
      ],
      "execution_count": 15,
      "outputs": [
        {
          "output_type": "execute_result",
          "data": {
            "text/plain": [
              "['ADP',\n",
              " 'DET',\n",
              " 'NOUN',\n",
              " 'PRON',\n",
              " 'VERB',\n",
              " 'ADJ',\n",
              " '.',\n",
              " 'PRT',\n",
              " 'CONJ',\n",
              " 'ADV',\n",
              " 'NUM',\n",
              " 'X']"
            ]
          },
          "metadata": {},
          "execution_count": 15
        }
      ]
    },
    {
      "cell_type": "code",
      "metadata": {
        "id": "cuHl9ElGiAcH"
      },
      "source": [
        "df = pd.DataFrame(columns = crf.classes_, \n",
        "                   index = crf.classes_, dtype='float32')"
      ],
      "execution_count": 16,
      "outputs": []
    },
    {
      "cell_type": "code",
      "metadata": {
        "id": "uGDEBxjyltQj"
      },
      "source": [
        "for keys, value in crf.transition_features_.items():\n",
        "  df.loc[keys[0], keys[1]] = value"
      ],
      "execution_count": 17,
      "outputs": []
    },
    {
      "cell_type": "code",
      "metadata": {
        "colab": {
          "base_uri": "https://localhost:8080/",
          "height": 418
        },
        "id": "85ZvXmdxmR2Y",
        "outputId": "3366d1ee-d77f-441f-d0c9-147ca87b2de4"
      },
      "source": [
        "df"
      ],
      "execution_count": 18,
      "outputs": [
        {
          "output_type": "execute_result",
          "data": {
            "text/html": [
              "<div>\n",
              "<style scoped>\n",
              "    .dataframe tbody tr th:only-of-type {\n",
              "        vertical-align: middle;\n",
              "    }\n",
              "\n",
              "    .dataframe tbody tr th {\n",
              "        vertical-align: top;\n",
              "    }\n",
              "\n",
              "    .dataframe thead th {\n",
              "        text-align: right;\n",
              "    }\n",
              "</style>\n",
              "<table border=\"1\" class=\"dataframe\">\n",
              "  <thead>\n",
              "    <tr style=\"text-align: right;\">\n",
              "      <th></th>\n",
              "      <th>ADP</th>\n",
              "      <th>DET</th>\n",
              "      <th>NOUN</th>\n",
              "      <th>PRON</th>\n",
              "      <th>VERB</th>\n",
              "      <th>ADJ</th>\n",
              "      <th>.</th>\n",
              "      <th>PRT</th>\n",
              "      <th>CONJ</th>\n",
              "      <th>ADV</th>\n",
              "      <th>NUM</th>\n",
              "      <th>X</th>\n",
              "    </tr>\n",
              "  </thead>\n",
              "  <tbody>\n",
              "    <tr>\n",
              "      <th>ADP</th>\n",
              "      <td>-0.436580</td>\n",
              "      <td>0.512122</td>\n",
              "      <td>2.810561</td>\n",
              "      <td>-0.226178</td>\n",
              "      <td>-0.660356</td>\n",
              "      <td>0.980434</td>\n",
              "      <td>-2.199761</td>\n",
              "      <td>-1.461639</td>\n",
              "      <td>-2.025863</td>\n",
              "      <td>-0.728139</td>\n",
              "      <td>-0.243839</td>\n",
              "      <td>-0.032220</td>\n",
              "    </tr>\n",
              "    <tr>\n",
              "      <th>DET</th>\n",
              "      <td>-3.647355</td>\n",
              "      <td>-3.740797</td>\n",
              "      <td>2.645119</td>\n",
              "      <td>-3.258694</td>\n",
              "      <td>0.447580</td>\n",
              "      <td>1.162723</td>\n",
              "      <td>-2.813060</td>\n",
              "      <td>-2.432468</td>\n",
              "      <td>-3.774316</td>\n",
              "      <td>-1.270468</td>\n",
              "      <td>-2.114691</td>\n",
              "      <td>-0.112860</td>\n",
              "    </tr>\n",
              "    <tr>\n",
              "      <th>NOUN</th>\n",
              "      <td>1.076790</td>\n",
              "      <td>-1.209699</td>\n",
              "      <td>3.487630</td>\n",
              "      <td>2.112266</td>\n",
              "      <td>2.626695</td>\n",
              "      <td>0.885558</td>\n",
              "      <td>0.871829</td>\n",
              "      <td>0.380946</td>\n",
              "      <td>0.626980</td>\n",
              "      <td>1.600076</td>\n",
              "      <td>0.305738</td>\n",
              "      <td>0.757410</td>\n",
              "    </tr>\n",
              "    <tr>\n",
              "      <th>PRON</th>\n",
              "      <td>-1.649891</td>\n",
              "      <td>-2.048625</td>\n",
              "      <td>-1.053691</td>\n",
              "      <td>-1.417530</td>\n",
              "      <td>2.479242</td>\n",
              "      <td>-1.801739</td>\n",
              "      <td>-1.795349</td>\n",
              "      <td>-1.738695</td>\n",
              "      <td>-1.614002</td>\n",
              "      <td>0.060274</td>\n",
              "      <td>-2.682574</td>\n",
              "      <td>-1.838180</td>\n",
              "    </tr>\n",
              "    <tr>\n",
              "      <th>VERB</th>\n",
              "      <td>1.315139</td>\n",
              "      <td>0.391589</td>\n",
              "      <td>3.723025</td>\n",
              "      <td>0.124310</td>\n",
              "      <td>1.098962</td>\n",
              "      <td>1.740181</td>\n",
              "      <td>-0.209493</td>\n",
              "      <td>1.752670</td>\n",
              "      <td>-0.206671</td>\n",
              "      <td>2.423649</td>\n",
              "      <td>0.506040</td>\n",
              "      <td>0.313958</td>\n",
              "    </tr>\n",
              "    <tr>\n",
              "      <th>ADJ</th>\n",
              "      <td>0.508311</td>\n",
              "      <td>-2.061978</td>\n",
              "      <td>5.289938</td>\n",
              "      <td>-1.162041</td>\n",
              "      <td>0.416540</td>\n",
              "      <td>1.617852</td>\n",
              "      <td>0.472311</td>\n",
              "      <td>0.151295</td>\n",
              "      <td>0.274127</td>\n",
              "      <td>0.717949</td>\n",
              "      <td>1.364694</td>\n",
              "      <td>1.821738</td>\n",
              "    </tr>\n",
              "    <tr>\n",
              "      <th>.</th>\n",
              "      <td>-1.080952</td>\n",
              "      <td>-1.440876</td>\n",
              "      <td>0.474039</td>\n",
              "      <td>-1.857808</td>\n",
              "      <td>0.166882</td>\n",
              "      <td>-0.372625</td>\n",
              "      <td>-0.986853</td>\n",
              "      <td>-0.622559</td>\n",
              "      <td>-0.191968</td>\n",
              "      <td>-0.574270</td>\n",
              "      <td>-2.540220</td>\n",
              "      <td>-0.481363</td>\n",
              "    </tr>\n",
              "    <tr>\n",
              "      <th>PRT</th>\n",
              "      <td>-0.135994</td>\n",
              "      <td>-0.685296</td>\n",
              "      <td>-0.244671</td>\n",
              "      <td>-2.029070</td>\n",
              "      <td>3.066626</td>\n",
              "      <td>-0.913137</td>\n",
              "      <td>0.154693</td>\n",
              "      <td>-0.248141</td>\n",
              "      <td>-2.170163</td>\n",
              "      <td>0.303141</td>\n",
              "      <td>-1.811571</td>\n",
              "      <td>-1.908916</td>\n",
              "    </tr>\n",
              "    <tr>\n",
              "      <th>CONJ</th>\n",
              "      <td>-0.996644</td>\n",
              "      <td>-1.091069</td>\n",
              "      <td>0.884645</td>\n",
              "      <td>-1.745131</td>\n",
              "      <td>-0.019059</td>\n",
              "      <td>0.463081</td>\n",
              "      <td>-4.525196</td>\n",
              "      <td>-1.322434</td>\n",
              "      <td>-3.093159</td>\n",
              "      <td>0.161118</td>\n",
              "      <td>-2.134609</td>\n",
              "      <td>-1.061590</td>\n",
              "    </tr>\n",
              "    <tr>\n",
              "      <th>ADV</th>\n",
              "      <td>0.393200</td>\n",
              "      <td>-0.503156</td>\n",
              "      <td>0.210088</td>\n",
              "      <td>-1.967342</td>\n",
              "      <td>1.396654</td>\n",
              "      <td>2.184743</td>\n",
              "      <td>-0.222237</td>\n",
              "      <td>-0.645774</td>\n",
              "      <td>-0.674010</td>\n",
              "      <td>1.779627</td>\n",
              "      <td>-0.151419</td>\n",
              "      <td>-1.411631</td>\n",
              "    </tr>\n",
              "    <tr>\n",
              "      <th>NUM</th>\n",
              "      <td>-1.016732</td>\n",
              "      <td>-2.585056</td>\n",
              "      <td>2.088325</td>\n",
              "      <td>-2.323823</td>\n",
              "      <td>-2.272032</td>\n",
              "      <td>-0.089371</td>\n",
              "      <td>-1.733158</td>\n",
              "      <td>-2.708385</td>\n",
              "      <td>-0.891428</td>\n",
              "      <td>-1.517919</td>\n",
              "      <td>-0.574301</td>\n",
              "      <td>-1.945891</td>\n",
              "    </tr>\n",
              "    <tr>\n",
              "      <th>X</th>\n",
              "      <td>-0.815146</td>\n",
              "      <td>-1.687838</td>\n",
              "      <td>1.052558</td>\n",
              "      <td>-0.944058</td>\n",
              "      <td>0.846050</td>\n",
              "      <td>-1.979348</td>\n",
              "      <td>0.459702</td>\n",
              "      <td>-1.012112</td>\n",
              "      <td>-0.540551</td>\n",
              "      <td>-0.471278</td>\n",
              "      <td>-2.001850</td>\n",
              "      <td>7.669773</td>\n",
              "    </tr>\n",
              "  </tbody>\n",
              "</table>\n",
              "</div>"
            ],
            "text/plain": [
              "           ADP       DET      NOUN  ...       ADV       NUM         X\n",
              "ADP  -0.436580  0.512122  2.810561  ... -0.728139 -0.243839 -0.032220\n",
              "DET  -3.647355 -3.740797  2.645119  ... -1.270468 -2.114691 -0.112860\n",
              "NOUN  1.076790 -1.209699  3.487630  ...  1.600076  0.305738  0.757410\n",
              "PRON -1.649891 -2.048625 -1.053691  ...  0.060274 -2.682574 -1.838180\n",
              "VERB  1.315139  0.391589  3.723025  ...  2.423649  0.506040  0.313958\n",
              "ADJ   0.508311 -2.061978  5.289938  ...  0.717949  1.364694  1.821738\n",
              ".    -1.080952 -1.440876  0.474039  ... -0.574270 -2.540220 -0.481363\n",
              "PRT  -0.135994 -0.685296 -0.244671  ...  0.303141 -1.811571 -1.908916\n",
              "CONJ -0.996644 -1.091069  0.884645  ...  0.161118 -2.134609 -1.061590\n",
              "ADV   0.393200 -0.503156  0.210088  ...  1.779627 -0.151419 -1.411631\n",
              "NUM  -1.016732 -2.585056  2.088325  ... -1.517919 -0.574301 -1.945891\n",
              "X    -0.815146 -1.687838  1.052558  ... -0.471278 -2.001850  7.669773\n",
              "\n",
              "[12 rows x 12 columns]"
            ]
          },
          "metadata": {},
          "execution_count": 18
        }
      ]
    },
    {
      "cell_type": "code",
      "metadata": {
        "colab": {
          "base_uri": "https://localhost:8080/",
          "height": 893
        },
        "id": "OdKLhEOzgn4Z",
        "outputId": "58ff768f-223b-4c3a-8fb3-d38a51237486"
      },
      "source": [
        "# Heatmap displaying Transition of Tags.\n",
        "plt.figure(figsize=(20,15))\n",
        "hm = sns.heatmap(data = df, annot=True)\n",
        "plt.title('Transition Features')\n",
        "plt.xlabel('To')\n",
        "plt.ylabel('From')\n",
        "plt.show()"
      ],
      "execution_count": 19,
      "outputs": [
        {
          "output_type": "display_data",
          "data": {
            "image/png": "[encoded data removed]",
            "text/plain": [
              "<Figure size 1440x1080 with 2 Axes>"
            ]
          },
          "metadata": {
            "needs_background": "light"
          }
        }
      ]
    },
    {
      "cell_type": "code",
      "metadata": {
        "colab": {
          "base_uri": "https://localhost:8080/"
        },
        "id": "xuqoP0Y4o2hg",
        "outputId": "ceaffaf9-53ae-40ac-aa51-9b319e4381b1"
      },
      "source": [
        "# Most common transition of tags.\n",
        "Counter(crf.transition_features_).most_common(20)"
      ],
      "execution_count": 20,
      "outputs": [
        {
          "output_type": "execute_result",
          "data": {
            "text/plain": [
              "[(('X', 'X'), 7.669773),\n",
              " (('ADJ', 'NOUN'), 5.289938),\n",
              " (('VERB', 'NOUN'), 3.723025),\n",
              " (('NOUN', 'NOUN'), 3.48763),\n",
              " (('PRT', 'VERB'), 3.066626),\n",
              " (('ADP', 'NOUN'), 2.810561),\n",
              " (('DET', 'NOUN'), 2.645119),\n",
              " (('NOUN', 'VERB'), 2.626695),\n",
              " (('PRON', 'VERB'), 2.479242),\n",
              " (('VERB', 'ADV'), 2.423649),\n",
              " (('ADV', 'ADJ'), 2.184743),\n",
              " (('NOUN', 'PRON'), 2.112266),\n",
              " (('NUM', 'NOUN'), 2.088325),\n",
              " (('ADJ', 'X'), 1.821738),\n",
              " (('ADV', 'ADV'), 1.779627),\n",
              " (('VERB', 'PRT'), 1.75267),\n",
              " (('VERB', 'ADJ'), 1.740181),\n",
              " (('ADJ', 'ADJ'), 1.617852),\n",
              " (('NOUN', 'ADV'), 1.600076),\n",
              " (('ADV', 'VERB'), 1.396654)]"
            ]
          },
          "metadata": {},
          "execution_count": 20
        }
      ]
    },
    {
      "cell_type": "code",
      "metadata": {
        "colab": {
          "base_uri": "https://localhost:8080/"
        },
        "id": "LzkwsqvPowIK",
        "outputId": "69ea537d-1208-4c3b-d1d0-6e0b647ea44a"
      },
      "source": [
        "# Least common transition of tags.\n",
        "Counter(crf.transition_features_).most_common()[-20:]"
      ],
      "execution_count": 21,
      "outputs": [
        {
          "output_type": "execute_result",
          "data": {
            "text/plain": [
              "[(('PRON', 'DET'), -2.048625),\n",
              " (('ADJ', 'DET'), -2.061978),\n",
              " (('DET', 'NUM'), -2.114691),\n",
              " (('CONJ', 'NUM'), -2.134609),\n",
              " (('PRT', 'CONJ'), -2.170163),\n",
              " (('ADP', '.'), -2.199761),\n",
              " (('NUM', 'VERB'), -2.272032),\n",
              " (('NUM', 'PRON'), -2.323823),\n",
              " (('DET', 'PRT'), -2.432468),\n",
              " (('.', 'NUM'), -2.54022),\n",
              " (('NUM', 'DET'), -2.585056),\n",
              " (('PRON', 'NUM'), -2.682574),\n",
              " (('NUM', 'PRT'), -2.708385),\n",
              " (('DET', '.'), -2.81306),\n",
              " (('CONJ', 'CONJ'), -3.093159),\n",
              " (('DET', 'PRON'), -3.258694),\n",
              " (('DET', 'ADP'), -3.647355),\n",
              " (('DET', 'DET'), -3.740797),\n",
              " (('DET', 'CONJ'), -3.774316),\n",
              " (('CONJ', '.'), -4.525196)]"
            ]
          },
          "metadata": {},
          "execution_count": 21
        }
      ]
    },
    {
      "cell_type": "code",
      "metadata": {
        "colab": {
          "base_uri": "https://localhost:8080/"
        },
        "id": "HiWdX1qJmO7B",
        "outputId": "172f29d2-582d-4fba-d900-554294f1ded1"
      },
      "source": [
        "# Most common transition of features to tags.\n",
        "Counter(crf.state_features_).most_common(20)"
      ],
      "execution_count": 245,
      "outputs": [
        {
          "output_type": "execute_result",
          "data": {
            "text/plain": [
              "[(('suffix_4:will', 'VERB'), 9.867503),\n",
              " (('prefix_4:ally', 'NOUN'), 9.864918),\n",
              " (('suffix_4:wise', 'ADV'), 9.700545),\n",
              " ((\"suffix_2:'s\", 'PRT'), 8.408198),\n",
              " (('suffix_4:eant', 'VERB'), 8.229702),\n",
              " (('suffix_3:ous', 'ADJ'), 8.191331),\n",
              " (('suffix_4:tood', 'VERB'), 8.161192),\n",
              " ((\"prev_word:didn't\", 'VERB'), 7.646031),\n",
              " (('prefix_4:sure', 'ADJ'), 7.638346),\n",
              " (('prev_word:may', 'VERB'), 7.579108),\n",
              " (('suffix_2:ly', 'ADV'), 7.5156),\n",
              " ((\"suffix_3:'re\", 'PRT'), 7.432723),\n",
              " ((\"suffix_2:'d\", 'PRT'), 7.330718),\n",
              " (('suffix_4:pent', 'VERB'), 7.197765),\n",
              " (('prefix_4:very', 'ADV'), 7.085424),\n",
              " ((\"prev_word:Don't\", 'VERB'), 7.070488),\n",
              " ((\"prev_word:wouldn't\", 'VERB'), 7.063846),\n",
              " (('suffix_4:nder', 'ADP'), 7.010421),\n",
              " (('prefix_4:towa', 'ADP'), 6.990156),\n",
              " (('prev_word:could', 'VERB'), 6.80192)]"
            ]
          },
          "metadata": {},
          "execution_count": 245
        }
      ]
    },
    {
      "cell_type": "code",
      "metadata": {
        "colab": {
          "base_uri": "https://localhost:8080/"
        },
        "id": "9xxGreQGmUtt",
        "outputId": "5038ae74-bd54-4074-c486-1966a6d74bd5"
      },
      "source": [
        "# Least common transition of features to tags.\n",
        "Counter(crf.state_features_).most_common()[-20:]"
      ],
      "execution_count": 246,
      "outputs": [
        {
          "output_type": "execute_result",
          "data": {
            "text/plain": [
              "[(('prev_word:had', 'CONJ'), -4.120795),\n",
              " (('prefix_4:fort', 'VERB'), -4.133445),\n",
              " (('next_word:Christ', 'DET'), -4.144002),\n",
              " (('suffix_4:like', 'NOUN'), -4.174666),\n",
              " (('suffix_4:less', 'VERB'), -4.202033),\n",
              " (('suffix_4:eady', 'NOUN'), -4.264952),\n",
              " (('next_word:Engine', 'ADP'), -4.330657),\n",
              " (('prefix_3:eve', 'VERB'), -4.357344),\n",
              " (('next_word:doses', 'NOUN'), -4.363991),\n",
              " (('prefix_4:leas', 'NOUN'), -4.373224),\n",
              " (('suffix_4:hort', 'NOUN'), -4.398),\n",
              " (('next_word:for', 'CONJ'), -4.531584),\n",
              " (('suffix_2:us', 'VERB'), -4.613151),\n",
              " (('prefix_4:chea', 'NOUN'), -4.646314),\n",
              " (('prefix_4:more', 'NOUN'), -4.888863),\n",
              " (('prefix_4:chem', 'ADJ'), -4.984325),\n",
              " (('next_word:of', 'PRT'), -5.075914),\n",
              " (('prefix_4:many', 'NOUN'), -5.11572),\n",
              " (('word_has_hyphen', 'VERB'), -5.556876),\n",
              " (('suffix_4:less', 'NOUN'), -6.502441)]"
            ]
          },
          "metadata": {},
          "execution_count": 246
        }
      ]
    },
    {
      "cell_type": "markdown",
      "metadata": {
        "id": "cz-ogxeGPLsZ"
      },
      "source": [
        "# Bi-Directional LSTM"
      ]
    },
    {
      "cell_type": "code",
      "metadata": {
        "id": "5quMg3QNqsL4"
      },
      "source": [
        "import tensorflow as tf\n",
        "from tensorflow.keras.preprocessing.text import Tokenizer\n",
        "from tensorflow.keras.preprocessing.sequence import pad_sequences\n",
        "from tensorflow.keras.utils import plot_model, to_categorical\n",
        "from tensorflow.keras.layers import Embedding, LSTM, Bidirectional, TimeDistributed, Dense\n",
        "from tensorflow.keras import Input\n",
        "from tensorflow.keras.models import load_model, Model "
      ],
      "execution_count": 22,
      "outputs": []
    },
    {
      "cell_type": "code",
      "metadata": {
        "id": "yQAOlawsh9H7"
      },
      "source": [
        "# Function to separate each input sentence with it's respective Tags.\n",
        "def Preprocess(data):\n",
        "  X = []\n",
        "  Y = []\n",
        "  for sent in data:\n",
        "    x = []\n",
        "    y = []\n",
        "    for s in sent:\n",
        "      x.append(s[0])\n",
        "      y.append(s[1])\n",
        "    X.append(x)\n",
        "    Y.append(y)\n",
        "  return X, Y"
      ],
      "execution_count": 98,
      "outputs": []
    },
    {
      "cell_type": "code",
      "metadata": {
        "id": "jKlMZlgAh9E0"
      },
      "source": [
        "X_Train, Y_Train = Preprocess(train_set)\n",
        "X_Test, Y_Test = Preprocess(test_set)"
      ],
      "execution_count": 99,
      "outputs": []
    },
    {
      "cell_type": "code",
      "metadata": {
        "id": "-GUV_XFyh9B9"
      },
      "source": [
        "# Creating Tokenizer for Words.\n",
        "word_tokenizer = Tokenizer()\n",
        "word_tokenizer.fit_on_texts(X_Train)"
      ],
      "execution_count": 100,
      "outputs": []
    },
    {
      "cell_type": "code",
      "metadata": {
        "id": "OdmZ5R7Sh8-j"
      },
      "source": [
        "word_vocab = len(word_tokenizer.word_index) + 1\n",
        "Encoded_X_train = word_tokenizer.texts_to_sequences(X_Train)\n",
        "Encoded_X_test = word_tokenizer.texts_to_sequences(X_Test)"
      ],
      "execution_count": 101,
      "outputs": []
    },
    {
      "cell_type": "code",
      "metadata": {
        "id": "kJzMIPyUpILQ"
      },
      "source": [
        "# Creating Tokenizer for Tags.\n",
        "tag_tokenizer = Tokenizer(lower = False)\n",
        "tag_tokenizer.fit_on_texts(Y_Train)"
      ],
      "execution_count": 102,
      "outputs": []
    },
    {
      "cell_type": "code",
      "metadata": {
        "colab": {
          "base_uri": "https://localhost:8080/"
        },
        "id": "vWeE-BsPpT5R",
        "outputId": "a08cd203-d434-488b-db38-041ff6fef1bc"
      },
      "source": [
        "tag_tokenizer.word_index"
      ],
      "execution_count": 103,
      "outputs": [
        {
          "output_type": "execute_result",
          "data": {
            "text/plain": [
              "{'.': 3,\n",
              " 'ADJ': 6,\n",
              " 'ADP': 4,\n",
              " 'ADV': 7,\n",
              " 'CONJ': 9,\n",
              " 'DET': 5,\n",
              " 'NOUN': 1,\n",
              " 'NUM': 11,\n",
              " 'PRON': 8,\n",
              " 'PRT': 10,\n",
              " 'VERB': 2,\n",
              " 'X': 12}"
            ]
          },
          "metadata": {},
          "execution_count": 103
        }
      ]
    },
    {
      "cell_type": "code",
      "metadata": {
        "id": "2O5Qg3-JpcFG"
      },
      "source": [
        "Encoded_Y_train = tag_tokenizer.texts_to_sequences(Y_Train)\n",
        "Encoded_Y_test = tag_tokenizer.texts_to_sequences(Y_Test)"
      ],
      "execution_count": 104,
      "outputs": []
    },
    {
      "cell_type": "code",
      "metadata": {
        "id": "PehgYw1Yh87T"
      },
      "source": [
        "Lengths = []\n",
        "for x in Encoded_X_train:\n",
        "  Lengths.append(len(x))"
      ],
      "execution_count": null,
      "outputs": []
    },
    {
      "cell_type": "code",
      "metadata": {
        "id": "xv8XqfzLoZt6"
      },
      "source": [
        "max_len = 80\n",
        "X_train_padded = pad_sequences(Encoded_X_train, maxlen = max_len, padding='post', truncating='post')\n",
        "X_test_padded = pad_sequences(Encoded_X_test, maxlen = max_len, padding='post', truncating='post' )\n",
        "# \n",
        "y_train_padded = pad_sequences(Encoded_Y_train, maxlen = max_len, padding='post', truncating='post' )\n",
        "y_test_padded = pad_sequences(Encoded_Y_test, maxlen = max_len, padding='post', truncating='post' )"
      ],
      "execution_count": 105,
      "outputs": []
    },
    {
      "cell_type": "code",
      "metadata": {
        "colab": {
          "base_uri": "https://localhost:8080/"
        },
        "id": "ec5inhqRtA2m",
        "outputId": "ddd0e895-e4a7-452e-bab1-71a1bb4f003e"
      },
      "source": [
        "# Using Pretrained Embedding GLove vectors.\n",
        "embeddings_index = dict()\n",
        "f = open('glove.6B.100d.txt', encoding=\"utf8\")\n",
        "for line in f:\n",
        "    values = line.split()\n",
        "    word = values[0]\n",
        "    coefs = np.asarray(values[1:], dtype='float32')\n",
        "    embeddings_index[word] = coefs\n",
        "f.close()\n",
        "print('Loaded %s word vectors.' % len(embeddings_index))"
      ],
      "execution_count": 106,
      "outputs": [
        {
          "output_type": "stream",
          "name": "stdout",
          "text": [
            "Loaded 400000 word vectors.\n"
          ]
        }
      ]
    },
    {
      "cell_type": "code",
      "metadata": {
        "id": "ksbWdgYdtDOL"
      },
      "source": [
        "# Creating a weight matrix for words in training sentences.\n",
        "embedding_matrix = np.zeros((word_vocab, 100))\n",
        "for word, i in word_tokenizer.word_index.items():\n",
        "    embedding_vector = embeddings_index.get(word)\n",
        "    if embedding_vector is not None:\n",
        "        embedding_matrix[i] = embedding_vector"
      ],
      "execution_count": 107,
      "outputs": []
    },
    {
      "cell_type": "code",
      "metadata": {
        "colab": {
          "base_uri": "https://localhost:8080/"
        },
        "id": "F-IiGkyateCr",
        "outputId": "eaaf2391-24dc-4974-92ad-346a8913d6cc"
      },
      "source": [
        "Y_train = to_categorical(y_train_padded)\n",
        "Y_test = to_categorical(y_test_padded)\n",
        "Y_train.shape, Y_test.shape"
      ],
      "execution_count": 108,
      "outputs": [
        {
          "output_type": "execute_result",
          "data": {
            "text/plain": [
              "((45872, 80, 13), (11468, 80, 13))"
            ]
          },
          "metadata": {},
          "execution_count": 108
        }
      ]
    },
    {
      "cell_type": "code",
      "metadata": {
        "colab": {
          "base_uri": "https://localhost:8080/"
        },
        "id": "wyC2a3hQxY-W",
        "outputId": "20a0b6b8-160e-47ff-93a6-1afeb0c618fb"
      },
      "source": [
        "num_tags = Y_train.shape[2]\n",
        "num_tags"
      ],
      "execution_count": 109,
      "outputs": [
        {
          "output_type": "execute_result",
          "data": {
            "text/plain": [
              "13"
            ]
          },
          "metadata": {},
          "execution_count": 109
        }
      ]
    },
    {
      "cell_type": "code",
      "metadata": {
        "id": "BTZeTONgxg0l"
      },
      "source": [
        "tf.keras.backend.clear_session()\n",
        "ip = Input(shape = (max_len, ))\n",
        "emb = Embedding(word_vocab, 100, weights=[embedding_matrix], input_length=max_len, trainable=False)(ip)\n",
        "lstm = Bidirectional(LSTM(units = 64, return_sequences = True))(emb)\n",
        "out = TimeDistributed(Dense(num_tags, activation='softmax',kernel_initializer=tf.keras.initializers.glorot_normal(seed = 30)))(lstm)"
      ],
      "execution_count": 110,
      "outputs": []
    },
    {
      "cell_type": "code",
      "metadata": {
        "colab": {
          "base_uri": "https://localhost:8080/"
        },
        "id": "0barPBCBzQFd",
        "outputId": "0f86497c-661a-4e42-aa88-0395b6cc72ed"
      },
      "source": [
        "model = Model(ip, out)\n",
        "model.summary()"
      ],
      "execution_count": 111,
      "outputs": [
        {
          "output_type": "stream",
          "name": "stdout",
          "text": [
            "Model: \"model\"\n",
            "_________________________________________________________________\n",
            "Layer (type)                 Output Shape              Param #   \n",
            "=================================================================\n",
            "input_1 (InputLayer)         [(None, 80)]              0         \n",
            "_________________________________________________________________\n",
            "embedding (Embedding)        (None, 80, 100)           4516800   \n",
            "_________________________________________________________________\n",
            "bidirectional (Bidirectional (None, 80, 128)           84480     \n",
            "_________________________________________________________________\n",
            "time_distributed (TimeDistri (None, 80, 13)            1677      \n",
            "=================================================================\n",
            "Total params: 4,602,957\n",
            "Trainable params: 86,157\n",
            "Non-trainable params: 4,516,800\n",
            "_________________________________________________________________\n"
          ]
        }
      ]
    },
    {
      "cell_type": "code",
      "metadata": {
        "id": "so7tLu7Q4die"
      },
      "source": [
        "model.compile(optimizer = 'adam', loss = 'categorical_crossentropy', metrics = 'acc')"
      ],
      "execution_count": 112,
      "outputs": []
    },
    {
      "cell_type": "code",
      "metadata": {
        "colab": {
          "base_uri": "https://localhost:8080/"
        },
        "id": "d8zrWU3H43VT",
        "outputId": "66277f56-c010-414b-8f16-6fe9ca03a3aa"
      },
      "source": [
        "history = model.fit(X_train_padded, Y_train, batch_size = 128, epochs = 10, validation_split = 0.15)"
      ],
      "execution_count": 113,
      "outputs": [
        {
          "output_type": "stream",
          "name": "stdout",
          "text": [
            "Epoch 1/10\n",
            "305/305 [==============================] - 79s 248ms/step - loss: 0.3509 - acc: 0.9264 - val_loss: 0.1097 - val_acc: 0.9692\n",
            "Epoch 2/10\n",
            "305/305 [==============================] - 76s 248ms/step - loss: 0.0853 - acc: 0.9761 - val_loss: 0.0690 - val_acc: 0.9805\n",
            "Epoch 3/10\n",
            "305/305 [==============================] - 75s 246ms/step - loss: 0.0588 - acc: 0.9831 - val_loss: 0.0519 - val_acc: 0.9849\n",
            "Epoch 4/10\n",
            "305/305 [==============================] - 76s 248ms/step - loss: 0.0460 - acc: 0.9866 - val_loss: 0.0426 - val_acc: 0.9876\n",
            "Epoch 5/10\n",
            "305/305 [==============================] - 76s 250ms/step - loss: 0.0386 - acc: 0.9887 - val_loss: 0.0368 - val_acc: 0.9892\n",
            "Epoch 6/10\n",
            "305/305 [==============================] - 77s 251ms/step - loss: 0.0335 - acc: 0.9901 - val_loss: 0.0330 - val_acc: 0.9902\n",
            "Epoch 7/10\n",
            "305/305 [==============================] - 76s 250ms/step - loss: 0.0299 - acc: 0.9911 - val_loss: 0.0299 - val_acc: 0.9911\n",
            "Epoch 8/10\n",
            "305/305 [==============================] - 79s 259ms/step - loss: 0.0272 - acc: 0.9919 - val_loss: 0.0276 - val_acc: 0.9916\n",
            "Epoch 9/10\n",
            "305/305 [==============================] - 77s 253ms/step - loss: 0.0250 - acc: 0.9924 - val_loss: 0.0260 - val_acc: 0.9920\n",
            "Epoch 10/10\n",
            "305/305 [==============================] - 77s 253ms/step - loss: 0.0232 - acc: 0.9929 - val_loss: 0.0246 - val_acc: 0.9926\n"
          ]
        }
      ]
    },
    {
      "cell_type": "code",
      "metadata": {
        "colab": {
          "base_uri": "https://localhost:8080/"
        },
        "id": "2JpDmciA5jpF",
        "outputId": "e2fcc432-c6cf-4634-e89d-5dac1823100b"
      },
      "source": [
        "history.history.keys()"
      ],
      "execution_count": 114,
      "outputs": [
        {
          "output_type": "execute_result",
          "data": {
            "text/plain": [
              "dict_keys(['loss', 'acc', 'val_loss', 'val_acc'])"
            ]
          },
          "metadata": {},
          "execution_count": 114
        }
      ]
    },
    {
      "cell_type": "code",
      "metadata": {
        "colab": {
          "base_uri": "https://localhost:8080/",
          "height": 516
        },
        "id": "vWKN06AH-9I5",
        "outputId": "58eb4e61-0a64-4f0f-def9-1ee2cf2c50dd"
      },
      "source": [
        "acc = history.history['acc']\n",
        "val_acc = history.history['val_acc']\n",
        "loss = history.history['loss']\n",
        "val_loss = history.history['val_loss']\n",
        "plt.figure(figsize = (8, 8))\n",
        "epochs = range(1, len(acc) + 1)\n",
        "plt.plot(epochs, acc, label='Training acc')\n",
        "plt.plot(epochs, val_acc, 'b', label='Validation acc')\n",
        "plt.title('Training and validation accuracy')\n",
        "plt.legend()"
      ],
      "execution_count": 115,
      "outputs": [
        {
          "output_type": "execute_result",
          "data": {
            "text/plain": [
              "<matplotlib.legend.Legend at 0x7f0eac217d10>"
            ]
          },
          "metadata": {},
          "execution_count": 115
        },
        {
          "output_type": "display_data",
          "data": {
            "image/png": "[encoded data removed]",
            "text/plain": [
              "<Figure size 576x576 with 1 Axes>"
            ]
          },
          "metadata": {
            "needs_background": "light"
          }
        }
      ]
    },
    {
      "cell_type": "code",
      "metadata": {
        "colab": {
          "base_uri": "https://localhost:8080/",
          "height": 516
        },
        "id": "_R9FI_Uq_M7q",
        "outputId": "6bb4f3d8-d3b7-4741-b152-19f723979cef"
      },
      "source": [
        "plt.figure(figsize = (8, 8))\n",
        "plt.plot(epochs, loss, label='Training loss')\n",
        "plt.plot(epochs, val_loss, 'b', label='Validation loss')\n",
        "plt.title('Training and validation loss')\n",
        "plt.legend()"
      ],
      "execution_count": 116,
      "outputs": [
        {
          "output_type": "execute_result",
          "data": {
            "text/plain": [
              "<matplotlib.legend.Legend at 0x7f0eac157690>"
            ]
          },
          "metadata": {},
          "execution_count": 116
        },
        {
          "output_type": "display_data",
          "data": {
            "image/png": "[encoded data removed]",
            "text/plain": [
              "<Figure size 576x576 with 1 Axes>"
            ]
          },
          "metadata": {
            "needs_background": "light"
          }
        }
      ]
    },
    {
      "cell_type": "code",
      "metadata": {
        "colab": {
          "base_uri": "https://localhost:8080/"
        },
        "id": "1_sCC76TPv5S",
        "outputId": "da3da4d1-1ef9-456d-9655-8a380cbf7037"
      },
      "source": [
        "loss, accuracy = model.evaluate(X_test_padded, Y_test, verbose = 1)"
      ],
      "execution_count": 117,
      "outputs": [
        {
          "output_type": "stream",
          "name": "stdout",
          "text": [
            "359/359 [==============================] - 10s 28ms/step - loss: 0.5473 - acc: 0.9439\n"
          ]
        }
      ]
    },
    {
      "cell_type": "code",
      "metadata": {
        "colab": {
          "base_uri": "https://localhost:8080/"
        },
        "id": "_CxIDuwL_rQt",
        "outputId": "c27bf557-f9da-4b47-d87c-56c903a66d2c"
      },
      "source": [
        "tag_tokenizer.sequences_to_texts(np.argmax(model.predict(X_test_padded[0:2]), axis = -1))"
      ],
      "execution_count": 118,
      "outputs": [
        {
          "output_type": "execute_result",
          "data": {
            "text/plain": [
              "['PRT VERB ADJ NOUN . ADP ADJ NOUN . DET NOUN ADP NOUN . CONJ ADJ NOUN .',\n",
              " 'ADP DET NOUN ADP DET NOUN ADP ADJ NOUN ADP NOUN . DET NOUN NOUN NOUN VERB NOUN ADP NOUN CONJ NOUN ADP DET NOUN CONJ NOUN .']"
            ]
          },
          "metadata": {},
          "execution_count": 118
        }
      ]
    },
    {
      "cell_type": "code",
      "metadata": {
        "colab": {
          "base_uri": "https://localhost:8080/"
        },
        "id": "Vv8QkBQ3_-8O",
        "outputId": "628f91fa-8db9-4b15-dc14-c0142afe05ac"
      },
      "source": [
        "tag_tokenizer.sequences_to_texts(np.argmax(Y_test[0:2], axis=-1))"
      ],
      "execution_count": 119,
      "outputs": [
        {
          "output_type": "execute_result",
          "data": {
            "text/plain": [
              "['PRT VERB ADJ NOUN . ADP ADJ NOUN . DET NOUN ADP ADJ NOUN . CONJ ADJ NOUN .',\n",
              " 'ADP DET NOUN ADP DET NOUN ADP ADJ NOUN ADP NOUN . DET NOUN NOUN NOUN VERB VERB NOUN ADP NOUN CONJ NOUN ADP DET NOUN CONJ NOUN .']"
            ]
          },
          "metadata": {},
          "execution_count": 119
        }
      ]
    },
    {
      "cell_type": "code",
      "metadata": {
        "colab": {
          "base_uri": "https://localhost:8080/"
        },
        "id": "AzCp8jfgAf7w",
        "outputId": "636faa6f-6928-4dc3-9ca4-a652b7fbd58e"
      },
      "source": [
        "word_tokenizer.sequences_to_texts(X_test_padded[0:2])"
      ],
      "execution_count": 120,
      "outputs": [
        {
          "output_type": "execute_result",
          "data": {
            "text/plain": [
              "['there are many possibilities , including poor circulation , a variety of conditions , and functional disorders .',\n",
              " \"with the co-operation of the department of physical education for men , the women's recreation association mixed tournaments in tennis and golf in the fall and spring .\"]"
            ]
          },
          "metadata": {},
          "execution_count": 120
        }
      ]
    },
    {
      "cell_type": "code",
      "metadata": {
        "colab": {
          "base_uri": "https://localhost:8080/",
          "height": 369
        },
        "id": "WRBhPVF_kTgs",
        "outputId": "5fd72183-dd8d-4e0e-b147-4c7568beebdc"
      },
      "source": [
        "plot_model(model)"
      ],
      "execution_count": 247,
      "outputs": [
        {
          "output_type": "execute_result",
          "data": {
            "image/png": "[encoded data removed]",
            "text/plain": [
              "<IPython.core.display.Image object>"
            ]
          },
          "metadata": {},
          "execution_count": 247
        }
      ]
    },
    {
      "cell_type": "code",
      "metadata": {
        "colab": {
          "base_uri": "https://localhost:8080/"
        },
        "id": "CcS-0iqumfX0",
        "outputId": "3a85d59c-c0d2-4784-ddf8-e8b25d37be36"
      },
      "source": [
        "# Predicting tags for custom sentence.\n",
        "te = 'Artificial Intelligence is the future.'\n",
        "enc = word_tokenizer.texts_to_sequences(te.split())\n",
        "enc = np.ravel(enc).tolist()\n",
        "enc_pad = pad_sequences([enc], maxlen = max_len, padding='post', truncating='post')\n",
        "enc_pad.shape"
      ],
      "execution_count": 339,
      "outputs": [
        {
          "output_type": "execute_result",
          "data": {
            "text/plain": [
              "(1, 80)"
            ]
          },
          "metadata": {},
          "execution_count": 339
        }
      ]
    },
    {
      "cell_type": "code",
      "metadata": {
        "colab": {
          "base_uri": "https://localhost:8080/"
        },
        "id": "RY0UcHKRn7zE",
        "outputId": "a8100ed5-98be-4b2c-9411-8eee5eff1ad2"
      },
      "source": [
        "# Using LSTM\n",
        "pred = model.predict(enc_pad)\n",
        "pred = np.argmax(pred, axis=-1)\n",
        "pred"
      ],
      "execution_count": 340,
      "outputs": [
        {
          "output_type": "execute_result",
          "data": {
            "text/plain": [
              "array([[6, 1, 2, 5, 1, 0, 0, 0, 0, 0, 0, 0, 0, 0, 0, 0, 0, 0, 0, 0, 0, 0,\n",
              "        0, 0, 0, 0, 0, 0, 0, 0, 0, 0, 0, 0, 0, 0, 0, 0, 0, 0, 0, 0, 0, 0,\n",
              "        0, 0, 0, 0, 0, 0, 0, 0, 0, 0, 0, 0, 0, 0, 0, 0, 0, 0, 0, 0, 0, 0,\n",
              "        0, 0, 0, 0, 0, 0, 0, 0, 0, 0, 0, 0, 0, 0]])"
            ]
          },
          "metadata": {},
          "execution_count": 340
        }
      ]
    },
    {
      "cell_type": "code",
      "metadata": {
        "colab": {
          "base_uri": "https://localhost:8080/"
        },
        "id": "BqC3EL6Mo9uv",
        "outputId": "2847f339-87fd-4d34-ee91-0fea49743642"
      },
      "source": [
        "tag_tokenizer.sequences_to_texts(pred)"
      ],
      "execution_count": 341,
      "outputs": [
        {
          "output_type": "execute_result",
          "data": {
            "text/plain": [
              "['ADJ NOUN VERB DET NOUN']"
            ]
          },
          "metadata": {},
          "execution_count": 341
        }
      ]
    },
    {
      "cell_type": "code",
      "metadata": {
        "id": "M6LTV9yepBwU"
      },
      "source": [
        "# Using CRF\n",
        "ip_fea = []\n",
        "for ind in range(len(te.split())):\n",
        "  ip_fea.append(features(te.split(), ind))"
      ],
      "execution_count": 342,
      "outputs": []
    },
    {
      "cell_type": "code",
      "metadata": {
        "colab": {
          "base_uri": "https://localhost:8080/"
        },
        "id": "2QRJWggRsPUx",
        "outputId": "cebcc362-6e58-4930-8bd9-bf416751b041"
      },
      "source": [
        "crf.predict([ip_fea])"
      ],
      "execution_count": 343,
      "outputs": [
        {
          "output_type": "execute_result",
          "data": {
            "text/plain": [
              "[['ADJ', 'NOUN', 'VERB', 'DET', 'NOUN']]"
            ]
          },
          "metadata": {},
          "execution_count": 343
        }
      ]
    },
    {
      "cell_type": "markdown",
      "metadata": {
        "id": "aswCK6Ahvh3v"
      },
      "source": [
        "Ref for CRF : https://medium.com/analytics-vidhya/pos-tagging-using-conditional-random-fields-92077e5eaa31\n",
        "\n",
        "Ref for LSTM : https://towardsdatascience.com/pos-tagging-using-rnn-7f08a522f849"
      ]
    }
  ]
}